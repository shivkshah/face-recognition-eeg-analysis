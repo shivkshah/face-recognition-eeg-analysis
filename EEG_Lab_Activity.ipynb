import mne
import numpy as np
import matplotlib.pyplot as plt

# Load the raw EEG data
raw = mne.io.read_raw_bdf('sub-01_task-oddball_eeg.bdf', preload=True)
raw.filter(1., 30., fir_design='firwin')
raw.plot(n_channels=10, duration=5, show=True)

# Find stimulus events
events = mne.find_events(raw, stim_channel='Status')
print(events[:10])  # Preview first few events

# Define event IDs (based on dataset docs or inspecting events)
event_id = {'standard': 1, 'target': 2}

# Create epochs: time-locked segments from -0.2s to +0.8s around each event
epochs = mne.Epochs(
    raw, events, event_id,
    tmin=-0.2, tmax=0.8,
    baseline=(None, 0),
    preload=True
)

# Find stimulus events
events = mne.find_events(raw, stim_channel='Status')
print(events[:10])  # Preview first few events

# Define event IDs (based on dataset docs or inspecting events)
event_id = {'standard': 1, 'target': 2}

# Create epochs: time-locked segments from -0.2s to +0.8s around each event
epochs = mne.Epochs(
    raw, events, event_id,
    tmin=-0.2, tmax=0.8,
    baseline=(None, 0),
    preload=True
)
